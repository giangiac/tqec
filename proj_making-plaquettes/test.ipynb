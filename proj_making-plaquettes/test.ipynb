{
 "cells": [
  {
   "attachments": {},
   "cell_type": "markdown",
   "metadata": {},
   "source": [
    "----\n",
    "# Making plaquettes\n",
    "----\n",
    "\n",
    "The idea is having a mostly-not-visual tool in the form of a Python module with a function which receives:\n",
    "- a list of data qubits\n",
    "- a list of stabilizers\n",
    "and creates an internal representation (IR) of the code assuming that an extra ancilla qubit is available with the right connectivity.\n",
    "\n",
    "One can then emit the `stim` code from the IR of the code.\n",
    "\n",
    "To illustrate the idea, with many suboptimal choices `:-)`, I added a couple of utility functions to `utils.py` and a small graphical interface to `gui.py`.  \n",
    "Note that using a networkx graph as IR for the QEC code is suboptimal.  \n",
    "For example, it requires additional info to identify data, x-ancilla, and z-ancilla qubits.\n",
    "\n",
    "In this context, easy improvements are:\n",
    "- function to prune the edges between data qubits\n",
    "- function to save/load the IR (here a graph)\n",
    "- function to emit STIM code assuming native connectivity\n",
    "- function to check code compatibility (i.e. data qubit exists, stabilizers pairwise commute, ...)\n",
    "- function to print the IR which does not rotate the graph and understands the overall 2d-grid structure\n",
    "- make the order of Pauli matrices in the stabilizer count (for the generation of the circuit)\n",
    "\n",
    "Sections:\n",
    "- <a href=#board>Make the board</a>\n",
    "- <a href=#stim>Emit stim code</a>\n",
    "\n",
    "----\n",
    "<a id='top'></a>"
   ]
  },
  {
   "cell_type": "code",
   "execution_count": 1,
   "metadata": {},
   "outputs": [
    {
     "name": "stdout",
     "output_type": "stream",
     "text": [
      "working directory: /data/giangiac/tqec/proj_making-plaquettes\n"
     ]
    },
    {
     "name": "stderr",
     "output_type": "stream",
     "text": [
      "/home/giangiac/.local/lib/python3.9/site-packages/matplotlib/projections/__init__.py:63: UserWarning: Unable to import Axes3D. This may be due to multiple versions of Matplotlib being installed (e.g. as a system package and as a pip package). As a result, the 3D projection is not available.\n",
      "  warnings.warn(\"Unable to import Axes3D. This may be due to multiple versions of \"\n"
     ]
    }
   ],
   "source": [
    "# Set working directory to be the main directory of the repo.\n",
    "import os\n",
    "print('working directory:', os.getcwd())\n",
    "\n",
    "import numpy as np              # Import NumPy library\n",
    "import networkx as nx\n",
    "import matplotlib.pyplot as plt # Import graphical library for plots\n",
    "\n",
    "from utils import custom_grid_2d_graph, add_stabilizer_to_graph, shift_stabilizer, get_options_for_draw, remove_edges_between_data\n",
    "from gui import launch_interactive_composer"
   ]
  },
  {
   "attachments": {},
   "cell_type": "markdown",
   "metadata": {},
   "source": [
    "<a id='board'></a>\n",
    "\n",
    "----\n",
    "## Make the board\n",
    "\n",
    "First we present the non-visual approach, then a simple GUI.\n",
    "\n",
    "<a href=#top>Back to top</a>"
   ]
  },
  {
   "cell_type": "code",
   "execution_count": 4,
   "metadata": {},
   "outputs": [
    {
     "ename": "ImportError",
     "evalue": "requires pygraphviz http://pygraphviz.github.io/",
     "output_type": "error",
     "traceback": [
      "\u001b[0;31m---------------------------------------------------------------------------\u001b[0m",
      "\u001b[0;31mModuleNotFoundError\u001b[0m                       Traceback (most recent call last)",
      "File \u001b[0;32m~/.local/lib/python3.9/site-packages/networkx/drawing/nx_agraph.py:304\u001b[0m, in \u001b[0;36mpygraphviz_layout\u001b[0;34m(G, prog, root, args)\u001b[0m\n\u001b[1;32m    303\u001b[0m \u001b[38;5;28;01mtry\u001b[39;00m:\n\u001b[0;32m--> 304\u001b[0m     \u001b[38;5;28;01mimport\u001b[39;00m \u001b[38;5;21;01mpygraphviz\u001b[39;00m\n\u001b[1;32m    305\u001b[0m \u001b[38;5;28;01mexcept\u001b[39;00m \u001b[38;5;167;01mImportError\u001b[39;00m \u001b[38;5;28;01mas\u001b[39;00m err:\n",
      "\u001b[0;31mModuleNotFoundError\u001b[0m: No module named 'pygraphviz'",
      "\nThe above exception was the direct cause of the following exception:\n",
      "\u001b[0;31mImportError\u001b[0m                               Traceback (most recent call last)",
      "Cell \u001b[0;32mIn[4], line 33\u001b[0m\n\u001b[1;32m     30\u001b[0m \u001b[38;5;66;03m# Draw graph.\u001b[39;00m\n\u001b[1;32m     31\u001b[0m \u001b[38;5;66;03m#G = remove_edges_between_data(G)                            # <-- the plot becomes somehow less readable.\u001b[39;00m\n\u001b[1;32m     32\u001b[0m options \u001b[38;5;241m=\u001b[39m get_options_for_draw(G, x_ancillas, z_ancillas)\n\u001b[0;32m---> 33\u001b[0m pos \u001b[38;5;241m=\u001b[39m \u001b[43mnx\u001b[49m\u001b[38;5;241;43m.\u001b[39;49m\u001b[43mnx_agraph\u001b[49m\u001b[38;5;241;43m.\u001b[39;49m\u001b[43mgraphviz_layout\u001b[49m\u001b[43m(\u001b[49m\u001b[43mG\u001b[49m\u001b[43m,\u001b[49m\u001b[43m \u001b[49m\u001b[43mprog\u001b[49m\u001b[38;5;241;43m=\u001b[39;49m\u001b[38;5;124;43m\"\u001b[39;49m\u001b[38;5;124;43mneato\u001b[39;49m\u001b[38;5;124;43m\"\u001b[39;49m\u001b[43m)\u001b[49m\n\u001b[1;32m     34\u001b[0m nx\u001b[38;5;241m.\u001b[39mdraw_networkx(G, pos\u001b[38;5;241m=\u001b[39mpos, \u001b[38;5;241m*\u001b[39m\u001b[38;5;241m*\u001b[39moptions)\n\u001b[1;32m     35\u001b[0m \u001b[38;5;28mprint\u001b[39m(\u001b[38;5;124m'\u001b[39m\u001b[38;5;130;01m\\n\u001b[39;00m\u001b[38;5;124mdata qubits in yellow, X ancillas in blue, Z ancillas in red\u001b[39m\u001b[38;5;124m'\u001b[39m)\n",
      "File \u001b[0;32m~/.local/lib/python3.9/site-packages/networkx/drawing/nx_agraph.py:260\u001b[0m, in \u001b[0;36mgraphviz_layout\u001b[0;34m(G, prog, root, args)\u001b[0m\n\u001b[1;32m    229\u001b[0m \u001b[38;5;28;01mdef\u001b[39;00m \u001b[38;5;21mgraphviz_layout\u001b[39m(G, prog\u001b[38;5;241m=\u001b[39m\u001b[38;5;124m\"\u001b[39m\u001b[38;5;124mneato\u001b[39m\u001b[38;5;124m\"\u001b[39m, root\u001b[38;5;241m=\u001b[39m\u001b[38;5;28;01mNone\u001b[39;00m, args\u001b[38;5;241m=\u001b[39m\u001b[38;5;124m\"\u001b[39m\u001b[38;5;124m\"\u001b[39m):\n\u001b[1;32m    230\u001b[0m \u001b[38;5;250m    \u001b[39m\u001b[38;5;124;03m\"\"\"Create node positions for G using Graphviz.\u001b[39;00m\n\u001b[1;32m    231\u001b[0m \n\u001b[1;32m    232\u001b[0m \u001b[38;5;124;03m    Parameters\u001b[39;00m\n\u001b[0;32m   (...)\u001b[0m\n\u001b[1;32m    258\u001b[0m \u001b[38;5;124;03m    see https://gitlab.com/graphviz/graphviz/-/issues/1767 for more info.\u001b[39;00m\n\u001b[1;32m    259\u001b[0m \u001b[38;5;124;03m    \"\"\"\u001b[39;00m\n\u001b[0;32m--> 260\u001b[0m     \u001b[38;5;28;01mreturn\u001b[39;00m \u001b[43mpygraphviz_layout\u001b[49m\u001b[43m(\u001b[49m\u001b[43mG\u001b[49m\u001b[43m,\u001b[49m\u001b[43m \u001b[49m\u001b[43mprog\u001b[49m\u001b[38;5;241;43m=\u001b[39;49m\u001b[43mprog\u001b[49m\u001b[43m,\u001b[49m\u001b[43m \u001b[49m\u001b[43mroot\u001b[49m\u001b[38;5;241;43m=\u001b[39;49m\u001b[43mroot\u001b[49m\u001b[43m,\u001b[49m\u001b[43m \u001b[49m\u001b[43margs\u001b[49m\u001b[38;5;241;43m=\u001b[39;49m\u001b[43margs\u001b[49m\u001b[43m)\u001b[49m\n",
      "File \u001b[0;32m~/.local/lib/python3.9/site-packages/networkx/drawing/nx_agraph.py:306\u001b[0m, in \u001b[0;36mpygraphviz_layout\u001b[0;34m(G, prog, root, args)\u001b[0m\n\u001b[1;32m    304\u001b[0m     \u001b[38;5;28;01mimport\u001b[39;00m \u001b[38;5;21;01mpygraphviz\u001b[39;00m\n\u001b[1;32m    305\u001b[0m \u001b[38;5;28;01mexcept\u001b[39;00m \u001b[38;5;167;01mImportError\u001b[39;00m \u001b[38;5;28;01mas\u001b[39;00m err:\n\u001b[0;32m--> 306\u001b[0m     \u001b[38;5;28;01mraise\u001b[39;00m \u001b[38;5;167;01mImportError\u001b[39;00m(\n\u001b[1;32m    307\u001b[0m         \u001b[38;5;124m\"\u001b[39m\u001b[38;5;124mrequires pygraphviz \u001b[39m\u001b[38;5;124m\"\u001b[39m \u001b[38;5;124m\"\u001b[39m\u001b[38;5;124mhttp://pygraphviz.github.io/\u001b[39m\u001b[38;5;124m\"\u001b[39m\n\u001b[1;32m    308\u001b[0m     ) \u001b[38;5;28;01mfrom\u001b[39;00m \u001b[38;5;21;01merr\u001b[39;00m\n\u001b[1;32m    309\u001b[0m \u001b[38;5;28;01mif\u001b[39;00m root \u001b[38;5;129;01mis\u001b[39;00m \u001b[38;5;129;01mnot\u001b[39;00m \u001b[38;5;28;01mNone\u001b[39;00m:\n\u001b[1;32m    310\u001b[0m     args \u001b[38;5;241m+\u001b[39m\u001b[38;5;241m=\u001b[39m \u001b[38;5;124mf\u001b[39m\u001b[38;5;124m\"\u001b[39m\u001b[38;5;124m-Groot=\u001b[39m\u001b[38;5;132;01m{\u001b[39;00mroot\u001b[38;5;132;01m}\u001b[39;00m\u001b[38;5;124m\"\u001b[39m\n",
      "\u001b[0;31mImportError\u001b[0m: requires pygraphviz http://pygraphviz.github.io/"
     ]
    }
   ],
   "source": [
    "# Non-visual approach for the Surface Code with d=3.\n",
    "\n",
    "# Create 2d grid of data qubits.\n",
    "d = 3\n",
    "G = custom_grid_2d_graph(d, d)\n",
    "# Add stabilizers.\n",
    "x_ancillas, z_ancillas = [], []\n",
    "stab = 'Z(0,0).Z(2,0).Z(0,2).Z(2,2)'\n",
    "for shift in ['(0,0)', '(2,2)']:\n",
    "    s = shift_stabilizer(stab, shift)\n",
    "    G, ancilla = add_stabilizer_to_graph(G, s)\n",
    "    z_ancillas.append(ancilla)\n",
    "stab = 'Z(0,4).Z(2,4)'\n",
    "for shift in ['(0,0)', '(2,-4)']:\n",
    "    s = shift_stabilizer(stab, shift)\n",
    "    G, ancilla = add_stabilizer_to_graph(G, s)\n",
    "    z_ancillas.append(ancilla)\n",
    "#\n",
    "stab = 'X(0,2).X(0,4).X(2,2).X(2,4)'\n",
    "for shift in ['(0,0)', '(2,-2)']:\n",
    "    s = shift_stabilizer(stab, shift)\n",
    "    G, ancilla = add_stabilizer_to_graph(G, s)\n",
    "    x_ancillas.append(ancilla)\n",
    "stab = 'X(0,0).X(0,2)'\n",
    "for shift in ['(0,0)', '(4,2)']:\n",
    "    s = shift_stabilizer(stab, shift)\n",
    "    G, ancilla = add_stabilizer_to_graph(G, s)\n",
    "    x_ancillas.append(ancilla)\n",
    "\n",
    "# Draw graph.\n",
    "#G = remove_edges_between_data(G)                            # <-- the plot becomes somehow less readable.\n",
    "options = get_options_for_draw(G, x_ancillas, z_ancillas)\n",
    "pos = nx.nx_agraph.graphviz_layout(G, prog=\"neato\")\n",
    "nx.draw_networkx(G, pos=pos, **options)\n",
    "print('\\ndata qubits in yellow, X ancillas in blue, Z ancillas in red')\n",
    "plt.show()"
   ]
  },
  {
   "cell_type": "code",
   "execution_count": 4,
   "metadata": {},
   "outputs": [
    {
     "data": {
      "application/vnd.jupyter.widget-view+json": {
       "model_id": "534f1359becd4c1692704eb4996d6cb8",
       "version_major": 2,
       "version_minor": 0
      },
      "text/plain": [
       "VBox(children=(Tab(children=(VBox(children=(Label(value='Add data qubits in a 2D grid:'), IntText(value=3, des…"
      ]
     },
     "execution_count": 4,
     "metadata": {},
     "output_type": "execute_result"
    }
   ],
   "source": [
    "# Simple GUI.\n",
    "launch_interactive_composer()\n"
   ]
  },
  {
   "cell_type": "code",
   "execution_count": null,
   "metadata": {},
   "outputs": [],
   "source": []
  },
  {
   "cell_type": "markdown",
   "metadata": {},
   "source": [
    "<a id='stim'></a>\n",
    "\n",
    "----\n",
    "## Convert to stim code\n",
    "\n",
    "<a href=#top>Back to top</a>"
   ]
  },
  {
   "cell_type": "code",
   "execution_count": null,
   "metadata": {},
   "outputs": [],
   "source": []
  },
  {
   "cell_type": "markdown",
   "metadata": {},
   "source": [
    "----\n",
    "## END\n",
    "----"
   ]
  }
 ],
 "metadata": {
  "kernelspec": {
   "display_name": "Python 3",
   "language": "python",
   "name": "python3"
  },
  "language_info": {
   "codemirror_mode": {
    "name": "ipython",
    "version": 3
   },
   "file_extension": ".py",
   "mimetype": "text/x-python",
   "name": "python",
   "nbconvert_exporter": "python",
   "pygments_lexer": "ipython3",
   "version": "3.9.13"
  }
 },
 "nbformat": 4,
 "nbformat_minor": 2
}
