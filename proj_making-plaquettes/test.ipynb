{
 "cells": [
  {
   "attachments": {},
   "cell_type": "markdown",
   "metadata": {},
   "source": [
    "----\n",
    "# Making plaquettes\n",
    "----\n",
    "\n",
    "The idea is having a mostly-not-visual tool in the form of a Python module with a function which receives:\n",
    "- a list of data qubits\n",
    "- a list of stabilizers\n",
    "and creates an internal representation (IR) of the code assuming that an extra ancilla qubit is available with the right connectivity.\n",
    "\n",
    "One can then emit the `stim` code from the IR of the code.\n",
    "\n",
    "To illustrate the idea, with many suboptimal choices `:-)`, I added a couple of utility functions to `utils.py` and a small graphical interface to `gui.py`.  \n",
    "Note that using a networkx graph as IR for the QEC code is suboptimal.  \n",
    "For example, it requires additional info to identify data, x-ancilla, and z-ancilla qubits.\n",
    "\n",
    "In this context, easy improvements are:\n",
    "- function to prune the edges between data qubits\n",
    "- function to save/load the IR (here a graph)\n",
    "- function to emit STIM code assuming native connectivity\n",
    "- function to check code compatibility (i.e. data qubit exists, stabilizers pairwise commute, ...)\n",
    "- function to print the IR which does not rotate the graph and understands the overall 2d-grid structure\n",
    "\n",
    "Sections:\n",
    "- <a href=#board>Make the board</a>\n",
    "- <a href=#stim>Emit stim code</a>\n",
    "\n",
    "----\n",
    "<a id='top'></a>"
   ]
  },
  {
   "cell_type": "code",
   "execution_count": 3,
   "metadata": {},
   "outputs": [
    {
     "name": "stdout",
     "output_type": "stream",
     "text": [
      "working directory: /data/nfs_home/giangiac/tqec/proj_making-plaquettes\n"
     ]
    }
   ],
   "source": [
    "# Set working directory to be the main directory of the repo.\n",
    "import os\n",
    "print('working directory:', os.getcwd())\n",
    "\n",
    "import numpy as np              # Import NumPy library\n",
    "import pandas as pd\n",
    "import networkx as nx\n",
    "\n",
    "#from utils import custom_grid_2d_graph, is_stabilizer, add_stabilizer_to_graph, shift_stabilizer\n",
    "from gui import launch_interactive_composer"
   ]
  },
  {
   "attachments": {},
   "cell_type": "markdown",
   "metadata": {},
   "source": [
    "<a id='board'></a>\n",
    "\n",
    "----\n",
    "## Make the board\n",
    "\n",
    "<a href=#top>Back to top</a>"
   ]
  },
  {
   "cell_type": "code",
   "execution_count": 4,
   "metadata": {},
   "outputs": [
    {
     "data": {
      "application/vnd.jupyter.widget-view+json": {
       "model_id": "6c64c72e4d7946e6a8e4f502d90aa3a3",
       "version_major": 2,
       "version_minor": 0
      },
      "text/plain": [
       "VBox(children=(Tab(children=(VBox(children=(Label(value='Add data qubits in a 2D grid:'), IntText(value=3, des…"
      ]
     },
     "execution_count": 4,
     "metadata": {},
     "output_type": "execute_result"
    }
   ],
   "source": [
    "launch_interactive_composer()\n"
   ]
  },
  {
   "cell_type": "code",
   "execution_count": null,
   "metadata": {},
   "outputs": [],
   "source": []
  },
  {
   "cell_type": "markdown",
   "metadata": {},
   "source": [
    "<a id='stim'></a>\n",
    "\n",
    "----\n",
    "## Convert to stim code\n",
    "\n",
    "<a href=#top>Back to top</a>"
   ]
  },
  {
   "cell_type": "code",
   "execution_count": null,
   "metadata": {},
   "outputs": [],
   "source": []
  },
  {
   "cell_type": "markdown",
   "metadata": {},
   "source": [
    "----\n",
    "## END\n",
    "----"
   ]
  }
 ],
 "metadata": {
  "kernelspec": {
   "display_name": "Python 3",
   "language": "python",
   "name": "python3"
  },
  "language_info": {
   "codemirror_mode": {
    "name": "ipython",
    "version": 3
   },
   "file_extension": ".py",
   "mimetype": "text/x-python",
   "name": "python",
   "nbconvert_exporter": "python",
   "pygments_lexer": "ipython3",
   "version": "3.8.18"
  }
 },
 "nbformat": 4,
 "nbformat_minor": 2
}
